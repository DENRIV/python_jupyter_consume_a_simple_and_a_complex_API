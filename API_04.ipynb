{
 "cells": [
  {
   "cell_type": "code",
   "execution_count": 1,
   "metadata": {},
   "outputs": [
    {
     "name": "stdout",
     "output_type": "stream",
     "text": [
      "{'status': 'success', 'country': 'United States', 'countryCode': 'US', 'region': 'IL', 'regionName': 'Illinois', 'city': 'Chicago', 'zip': '60666', 'lat': 41.8781, 'lon': -87.6298, 'timezone': 'America/Chicago', 'isp': 'Wikimedia Foundation Inc.', 'org': 'Wikimedia Foundation Inc', 'as': 'AS14907 Wikimedia Foundation Inc.', 'query': '208.80.152.201'}\n",
      "*\n",
      "success\n",
      "United States\n",
      "US\n",
      "208.80.152.201\n"
     ]
    }
   ],
   "source": [
    "# Consume a simple API\n",
    "\n",
    "# http://ip-api.com/json/208.80.152.201\n",
    "\n",
    "import requests\n",
    "import json\n",
    "resp = requests.get('http://ip-api.com/json/208.80.152.201')\n",
    "j = json.loads(resp.content)\n",
    "print(j)\n",
    "\n",
    "# {\"status\":\"success\",\"country\":\"United States\",\"countryCode\":\"US\",\"region\":\"IL\",\"regionName\":\"Illinois\",\"city\":\"Chicago\",\"zip\":\"60666\",\"lat\":41.8781,\"lon\":-87.6298,\"timezone\":\"America/Chicago\",\"isp\":\"Wikimedia Foundation Inc.\",\"org\":\"Wikimedia Foundation Inc\",\"as\":\"AS14907 Wikimedia Foundation Inc.\",\"query\":\"208.80.152.201\"}\n",
    "\n",
    "print(\"*\")\n",
    "print(j['status'])\n",
    "print(j['country'])\n",
    "print(j['countryCode'])\n",
    "\n",
    "print(j['query'])"
   ]
  },
  {
   "cell_type": "code",
   "execution_count": 4,
   "metadata": {},
   "outputs": [],
   "source": [
    "# TMDB_API_KEY\n",
    "MASTER_TMDB_API_KEY = \"xxxxxxxxxxxxxxxxxxxxxxxxxxxxxxxx\"\n",
    "#                      12345678901234567890123456789012\n",
    "\n",
    "# get your account in :\n",
    "# themoviedb.org"
   ]
  },
  {
   "cell_type": "code",
   "execution_count": 9,
   "metadata": {},
   "outputs": [
    {
     "name": "stdout",
     "output_type": "stream",
     "text": [
      "themoviedb.org\n",
      "The Avengers Collection\n",
      "Avengers: Endgame\n"
     ]
    }
   ],
   "source": [
    "# Consume a complex API\n",
    "\n",
    "import ssl\n",
    "import urllib.request\n",
    "import json\n",
    "import codecs\n",
    "import csv\n",
    "\n",
    "# Put your TMDB API key as text string here\n",
    "#TMDB_API_KEY = \"\"\n",
    "TMDB_API_KEY = MASTER_TMDB_API_KEY\n",
    "\n",
    "# The Avengers: Endgame movie\n",
    "TMDB_MOVIE_ID = 299534\n",
    "\n",
    "# Create context for HTTPS connection\n",
    "context = ssl._create_unverified_context()\n",
    "\n",
    "# by ID\n",
    "\n",
    "# Open URL request for downloading 1st page of reviews \n",
    "# u = urllib.request.urlopen(\"https://api.themoviedb.org/3/movie/%i/reviews?api_key=%s&language=en-US&page=1\" % (TMDB_MOVIE_ID, TMDB_API_KEY), context=context)\n",
    "# (TMDB_MOVIE_ID, TMDB_API_KEY), context=context)\n",
    "\n",
    "# out: /reviews\n",
    "url = \"https://api.themoviedb.org/3/movie/%i?api_key=%s&language=en-US&page=1\" % (TMDB_MOVIE_ID, TMDB_API_KEY)\n",
    "u = urllib.request.urlopen(url, context=context)\n",
    "\n",
    "# Read JSON file with results from TMDB\n",
    "raw_data = u.read()\n",
    "\n",
    "# Convert JSON file to python dict\n",
    "data = json.loads(raw_data)\n",
    "\n",
    "# print('json')\n",
    "# print(raw_data)\n",
    "\n",
    "# print('dicc')\n",
    "# print(data)\n",
    "\n",
    "print(\"themoviedb.org\")\n",
    "\n",
    "print(data['belongs_to_collection']['name'])\n",
    "print(data['original_title'])"
   ]
  }
 ],
 "metadata": {
  "kernelspec": {
   "display_name": "Python 3",
   "language": "python",
   "name": "python3"
  },
  "language_info": {
   "codemirror_mode": {
    "name": "ipython",
    "version": 3
   },
   "file_extension": ".py",
   "mimetype": "text/x-python",
   "name": "python",
   "nbconvert_exporter": "python",
   "pygments_lexer": "ipython3",
   "version": "3.7.1"
  }
 },
 "nbformat": 4,
 "nbformat_minor": 4
}
